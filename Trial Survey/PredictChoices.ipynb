{
 "cells": [
  {
   "cell_type": "code",
   "execution_count": 1,
   "metadata": {},
   "outputs": [],
   "source": [
    "#reading the data"
   ]
  },
  {
   "cell_type": "code",
   "execution_count": 1,
   "metadata": {},
   "outputs": [],
   "source": [
    "import numpy as np\n",
    "import pandas as pd\n",
    "from sklearn import linear_model\n",
    "from sklearn import metrics\n",
    "from sklearn.model_selection import train_test_split\n",
    "import pandas as pd\n",
    "from sklearn.tree import DecisionTreeClassifier # Import Decision Tree Classifier\n",
    "from sklearn.model_selection import train_test_split # Import train_test_split function\n",
    "from sklearn import metrics #Import scikit-learn metrics module for accuracy calculation"
   ]
  },
  {
   "cell_type": "code",
   "execution_count": 2,
   "metadata": {},
   "outputs": [],
   "source": [
    "data=pd.read_csv(\"EVData.csv\",na_values = -99)"
   ]
  },
  {
   "cell_type": "code",
   "execution_count": 3,
   "metadata": {},
   "outputs": [
    {
     "name": "stdout",
     "output_type": "stream",
     "text": [
      "<class 'pandas.core.frame.DataFrame'>\n",
      "RangeIndex: 1188 entries, 0 to 1187\n",
      "Columns: 105 entries, StartDate to Block\n",
      "dtypes: float64(49), int64(36), object(20)\n",
      "memory usage: 974.7+ KB\n"
     ]
    }
   ],
   "source": [
    "#exploring the data\n",
    "data.info()"
   ]
  },
  {
   "cell_type": "code",
   "execution_count": 4,
   "metadata": {},
   "outputs": [
    {
     "data": {
      "text/html": [
       "<div>\n",
       "<style scoped>\n",
       "    .dataframe tbody tr th:only-of-type {\n",
       "        vertical-align: middle;\n",
       "    }\n",
       "\n",
       "    .dataframe tbody tr th {\n",
       "        vertical-align: top;\n",
       "    }\n",
       "\n",
       "    .dataframe thead th {\n",
       "        text-align: right;\n",
       "    }\n",
       "</style>\n",
       "<table border=\"1\" class=\"dataframe\">\n",
       "  <thead>\n",
       "    <tr style=\"text-align: right;\">\n",
       "      <th></th>\n",
       "      <th>StartDate</th>\n",
       "      <th>EndDate</th>\n",
       "      <th>Status</th>\n",
       "      <th>IPAddress</th>\n",
       "      <th>Progress</th>\n",
       "      <th>Duration..in.seconds.</th>\n",
       "      <th>Finished</th>\n",
       "      <th>RecordedDate</th>\n",
       "      <th>ResponseId</th>\n",
       "      <th>RecipientLastName</th>\n",
       "      <th>...</th>\n",
       "      <th>alt1.amenities</th>\n",
       "      <th>alt2.price</th>\n",
       "      <th>alt2.charge_time</th>\n",
       "      <th>alt2.detour_time</th>\n",
       "      <th>alt2.amenities</th>\n",
       "      <th>alt3.price</th>\n",
       "      <th>alt3.charge_time</th>\n",
       "      <th>alt3.detour_time</th>\n",
       "      <th>alt3.amenities</th>\n",
       "      <th>Block</th>\n",
       "    </tr>\n",
       "  </thead>\n",
       "  <tbody>\n",
       "    <tr>\n",
       "      <td>0</td>\n",
       "      <td>11/16/2019 9:59</td>\n",
       "      <td>11/16/2019 10:07</td>\n",
       "      <td>0</td>\n",
       "      <td>184.89.129.208</td>\n",
       "      <td>100</td>\n",
       "      <td>501</td>\n",
       "      <td>1</td>\n",
       "      <td>11/16/2019 10:07</td>\n",
       "      <td>R_2c2CrQ0N4jjYo1Z</td>\n",
       "      <td>NaN</td>\n",
       "      <td>...</td>\n",
       "      <td>1</td>\n",
       "      <td>0.0</td>\n",
       "      <td>30</td>\n",
       "      <td>20</td>\n",
       "      <td>3</td>\n",
       "      <td>2.0</td>\n",
       "      <td>60</td>\n",
       "      <td>20</td>\n",
       "      <td>-1</td>\n",
       "      <td>1</td>\n",
       "    </tr>\n",
       "    <tr>\n",
       "      <td>1</td>\n",
       "      <td>11/16/2019 9:59</td>\n",
       "      <td>11/16/2019 10:07</td>\n",
       "      <td>0</td>\n",
       "      <td>184.89.129.208</td>\n",
       "      <td>100</td>\n",
       "      <td>501</td>\n",
       "      <td>1</td>\n",
       "      <td>11/16/2019 10:07</td>\n",
       "      <td>R_2c2CrQ0N4jjYo1Z</td>\n",
       "      <td>NaN</td>\n",
       "      <td>...</td>\n",
       "      <td>-3</td>\n",
       "      <td>5.0</td>\n",
       "      <td>30</td>\n",
       "      <td>20</td>\n",
       "      <td>1</td>\n",
       "      <td>1.0</td>\n",
       "      <td>30</td>\n",
       "      <td>0</td>\n",
       "      <td>-1</td>\n",
       "      <td>2</td>\n",
       "    </tr>\n",
       "    <tr>\n",
       "      <td>2</td>\n",
       "      <td>11/16/2019 9:59</td>\n",
       "      <td>11/16/2019 10:07</td>\n",
       "      <td>0</td>\n",
       "      <td>184.89.129.208</td>\n",
       "      <td>100</td>\n",
       "      <td>501</td>\n",
       "      <td>1</td>\n",
       "      <td>11/16/2019 10:07</td>\n",
       "      <td>R_2c2CrQ0N4jjYo1Z</td>\n",
       "      <td>NaN</td>\n",
       "      <td>...</td>\n",
       "      <td>3</td>\n",
       "      <td>1.0</td>\n",
       "      <td>60</td>\n",
       "      <td>0</td>\n",
       "      <td>-3</td>\n",
       "      <td>5.0</td>\n",
       "      <td>60</td>\n",
       "      <td>20</td>\n",
       "      <td>3</td>\n",
       "      <td>1</td>\n",
       "    </tr>\n",
       "  </tbody>\n",
       "</table>\n",
       "<p>3 rows × 105 columns</p>\n",
       "</div>"
      ],
      "text/plain": [
       "         StartDate           EndDate  Status       IPAddress  Progress  \\\n",
       "0  11/16/2019 9:59  11/16/2019 10:07       0  184.89.129.208       100   \n",
       "1  11/16/2019 9:59  11/16/2019 10:07       0  184.89.129.208       100   \n",
       "2  11/16/2019 9:59  11/16/2019 10:07       0  184.89.129.208       100   \n",
       "\n",
       "   Duration..in.seconds.  Finished      RecordedDate         ResponseId  \\\n",
       "0                    501         1  11/16/2019 10:07  R_2c2CrQ0N4jjYo1Z   \n",
       "1                    501         1  11/16/2019 10:07  R_2c2CrQ0N4jjYo1Z   \n",
       "2                    501         1  11/16/2019 10:07  R_2c2CrQ0N4jjYo1Z   \n",
       "\n",
       "   RecipientLastName  ...  alt1.amenities  alt2.price  alt2.charge_time  \\\n",
       "0                NaN  ...               1         0.0                30   \n",
       "1                NaN  ...              -3         5.0                30   \n",
       "2                NaN  ...               3         1.0                60   \n",
       "\n",
       "   alt2.detour_time  alt2.amenities alt3.price alt3.charge_time  \\\n",
       "0                20               3        2.0               60   \n",
       "1                20               1        1.0               30   \n",
       "2                 0              -3        5.0               60   \n",
       "\n",
       "   alt3.detour_time  alt3.amenities  Block  \n",
       "0                20              -1      1  \n",
       "1                 0              -1      2  \n",
       "2                20               3      1  \n",
       "\n",
       "[3 rows x 105 columns]"
      ]
     },
     "execution_count": 4,
     "metadata": {},
     "output_type": "execute_result"
    }
   ],
   "source": [
    "data.head(3)"
   ]
  },
  {
   "cell_type": "code",
   "execution_count": 5,
   "metadata": {},
   "outputs": [],
   "source": [
    "#Dropping unwanted columns"
   ]
  },
  {
   "cell_type": "code",
   "execution_count": 6,
   "metadata": {},
   "outputs": [],
   "source": [
    "idx = np.r_[0:30,32:55,81:81,88:91,105:105]\n",
    "data.drop(data.columns[idx], axis=1, inplace=True)\n",
    "idx1 = np.r_[1:2,49:49]\n",
    "data.drop(data.columns[idx1], axis=1, inplace=True)\n",
    "data.drop(data.columns[-1], axis=1, inplace=True)\n",
    "data.drop([\"Location\",\"Personal_Income\",\"VehParking.at.Work\",\"VehParking.at.Home\"], axis=1, inplace=True)"
   ]
  },
  {
   "cell_type": "code",
   "execution_count": 7,
   "metadata": {},
   "outputs": [],
   "source": [
    "#Checking for null values"
   ]
  },
  {
   "cell_type": "code",
   "execution_count": 8,
   "metadata": {},
   "outputs": [
    {
     "data": {
      "text/plain": [
       "Number.of.Vehicles          0\n",
       "Travel.Time                 0\n",
       "Modes.of.Transport          0\n",
       "QID22                       0\n",
       "Past..Num.of.trips          0\n",
       "Future.Num.of.trips         0\n",
       "DrivenEV                    0\n",
       "FamilarEV                   0\n",
       "Household.MemberNo         12\n",
       "Household.Member.Age_1     12\n",
       "Household.Member.Age_2     12\n",
       "Household.Member.Age_3     12\n",
       "Household.Member.Age_4     12\n",
       "Household.Member.Age_5     12\n",
       "Household.Member.Age_6     12\n",
       "Household.Member.Age_7     12\n",
       "Household.Member.Age_8     12\n",
       "Household.Member.Age_9     12\n",
       "Household.Member.Age_10    12\n",
       "WorkerNo                   24\n",
       "Household.Income           12\n",
       "Home.Type                   0\n",
       "Urban.Rural                 0\n",
       "Driver                     12\n",
       "Number.of.Drivers          12\n",
       "Gender                      0\n",
       "Birthyear                   0\n",
       "Race                        0\n",
       "Edu                        12\n",
       "Maritial.Status             0\n",
       "Choice                      0\n",
       "alt1.price                  0\n",
       "alt1.charge_time            0\n",
       "alt1.detour_time            0\n",
       "alt1.amenities              0\n",
       "alt2.price                  0\n",
       "alt2.charge_time            0\n",
       "alt2.detour_time            0\n",
       "alt2.amenities              0\n",
       "alt3.price                  0\n",
       "alt3.charge_time            0\n",
       "alt3.detour_time            0\n",
       "alt3.amenities              0\n",
       "dtype: int64"
      ]
     },
     "execution_count": 8,
     "metadata": {},
     "output_type": "execute_result"
    }
   ],
   "source": [
    "data.isnull().sum()"
   ]
  },
  {
   "cell_type": "code",
   "execution_count": 9,
   "metadata": {},
   "outputs": [],
   "source": [
    "#remove rows with NA values"
   ]
  },
  {
   "cell_type": "code",
   "execution_count": 10,
   "metadata": {},
   "outputs": [],
   "source": [
    "data=data.dropna()"
   ]
  },
  {
   "cell_type": "code",
   "execution_count": 11,
   "metadata": {},
   "outputs": [],
   "source": [
    "#analyze the level of factors present in each column"
   ]
  },
  {
   "cell_type": "code",
   "execution_count": 12,
   "metadata": {},
   "outputs": [
    {
     "name": "stdout",
     "output_type": "stream",
     "text": [
      "<class 'pandas.core.frame.DataFrame'>\n",
      "Int64Index: 1140 entries, 0 to 1187\n",
      "Data columns (total 43 columns):\n",
      "Number.of.Vehicles         1140 non-null int64\n",
      "Travel.Time                1140 non-null int64\n",
      "Modes.of.Transport         1140 non-null int64\n",
      "QID22                      1140 non-null int64\n",
      "Past..Num.of.trips         1140 non-null int64\n",
      "Future.Num.of.trips        1140 non-null int64\n",
      "DrivenEV                   1140 non-null int64\n",
      "FamilarEV                  1140 non-null int64\n",
      "Household.MemberNo         1140 non-null int64\n",
      "Household.Member.Age_1     1140 non-null int64\n",
      "Household.Member.Age_2     1140 non-null int64\n",
      "Household.Member.Age_3     1140 non-null int64\n",
      "Household.Member.Age_4     1140 non-null int64\n",
      "Household.Member.Age_5     1140 non-null int64\n",
      "Household.Member.Age_6     1140 non-null int64\n",
      "Household.Member.Age_7     1140 non-null int64\n",
      "Household.Member.Age_8     1140 non-null int64\n",
      "Household.Member.Age_9     1140 non-null int64\n",
      "Household.Member.Age_10    1140 non-null int64\n",
      "WorkerNo                   1140 non-null int64\n",
      "Household.Income           1140 non-null int64\n",
      "Home.Type                  1140 non-null int64\n",
      "Urban.Rural                1140 non-null int64\n",
      "Driver                     1140 non-null int64\n",
      "Number.of.Drivers          1140 non-null int64\n",
      "Gender                     1140 non-null int64\n",
      "Birthyear                  1140 non-null int64\n",
      "Race                       1140 non-null int64\n",
      "Edu                        1140 non-null int64\n",
      "Maritial.Status            1140 non-null int64\n",
      "Choice                     1140 non-null int64\n",
      "alt1.price                 1140 non-null int64\n",
      "alt1.charge_time           1140 non-null int64\n",
      "alt1.detour_time           1140 non-null int64\n",
      "alt1.amenities             1140 non-null int64\n",
      "alt2.price                 1140 non-null int64\n",
      "alt2.charge_time           1140 non-null int64\n",
      "alt2.detour_time           1140 non-null int64\n",
      "alt2.amenities             1140 non-null int64\n",
      "alt3.price                 1140 non-null int64\n",
      "alt3.charge_time           1140 non-null int64\n",
      "alt3.detour_time           1140 non-null int64\n",
      "alt3.amenities             1140 non-null int64\n",
      "dtypes: int64(43)\n",
      "memory usage: 391.9 KB\n"
     ]
    }
   ],
   "source": [
    "data= data.applymap(np.int64)\n",
    "data.info()"
   ]
  },
  {
   "cell_type": "code",
   "execution_count": 13,
   "metadata": {},
   "outputs": [
    {
     "name": "stdout",
     "output_type": "stream",
     "text": [
      "0 Number.of.Vehicles :  [2 3 1 6 4]\n",
      "1 Travel.Time :  [  0   1  30  20   5  15  10  12  25  45   2  50   4  60  40   8  11  35\n",
      " 100  65  18  90]\n",
      "2 Modes.of.Transport :  [11  3  4  1 12  7  2 10  5]\n",
      "3 QID22 :  [1 6 3 4 2 5]\n",
      "4 Past..Num.of.trips :  [  1   0   6   2   4  16  15 100   5  80  50  20  95  10   3 800  65   8\n",
      "  90   7  75  35  70]\n",
      "5 Future.Num.of.trips :  [  1   2   3   0 750  10 100  11  80  50  14  20   6  15  75   4  12   5\n",
      "   7  65  40  90]\n",
      "6 DrivenEV :  [2 1]\n",
      "7 FamilarEV :  [3 1 2 4]\n",
      "8 Household.MemberNo :  [2 6 1 5 3 4 7]\n",
      "9 Household.Member.Age_1 :  [0 5 1 2 4]\n",
      "10 Household.Member.Age_2 :  [ 0  3  1  2 10  6  5  4]\n",
      "11 Household.Member.Age_3 :  [ 0  1 15  2 16]\n",
      "12 Household.Member.Age_4 :  [ 0  1 18 30  2 20  3]\n",
      "13 Household.Member.Age_5 :  [ 0  1  2  7  3 25 30  6]\n",
      "14 Household.Member.Age_6 :  [ 1  0 40  2 15 35 30  4]\n",
      "15 Household.Member.Age_7 :  [ 0  1  8  2 45  5]\n",
      "16 Household.Member.Age_8 :  [ 0  1  2 30 55  6]\n",
      "17 Household.Member.Age_9 :  [ 0  1 65  2  4]\n",
      "18 Household.Member.Age_10 :  [ 0  1 75  5]\n",
      "19 WorkerNo :  [2 3 1 4 6 5]\n",
      "20 Household.Income :  [ 4  5  3  7  6  1  2 10  9]\n",
      "21 Home.Type :  [3 1 2 8 4 5 6]\n",
      "22 Urban.Rural :  [2 3 1]\n",
      "23 Driver :  [1 2]\n",
      "24 Number.of.Drivers :  [3 4 2 5]\n",
      "25 Gender :  [1 2]\n",
      "26 Birthyear :  [39 35 49 37 28 46 31 29 20 54 27 36 47 33 50 26 30 57 45 22 40 25 48 59\n",
      " 32 41 44 38 52 67 61 58]\n",
      "27 Race :  [7 2 4 3 9 1]\n",
      "28 Edu :  [3 6 5 7 2 4]\n",
      "29 Maritial.Status :  [1 2 6 4 5]\n",
      "30 Choice :  [2 1 3]\n",
      "31 alt1.price :  [ 0  5 10  2  1]\n",
      "32 alt1.charge_time :  [60 15 30]\n",
      "33 alt1.detour_time :  [20  0]\n",
      "34 alt1.amenities :  [ 1 -3  3 -1]\n",
      "35 alt2.price :  [ 0  5  1 10  2]\n",
      "36 alt2.charge_time :  [30 60 15]\n",
      "37 alt2.detour_time :  [20  0]\n",
      "38 alt2.amenities :  [ 3  1 -3 -1]\n",
      "39 alt3.price :  [ 2  1  5  0 10]\n",
      "40 alt3.charge_time :  [60 30 15]\n",
      "41 alt3.detour_time :  [20  0]\n",
      "42 alt3.amenities :  [-1  3  1 -3]\n"
     ]
    }
   ],
   "source": [
    "columns=data.columns.tolist()\n",
    "j=-1\n",
    "for i in columns:\n",
    "    j=j+1\n",
    "    print (j,i,\": \", data[i].unique())\n",
    "        "
   ]
  },
  {
   "cell_type": "code",
   "execution_count": 14,
   "metadata": {},
   "outputs": [],
   "source": [
    "#Modifying the columns"
   ]
  },
  {
   "cell_type": "code",
   "execution_count": 15,
   "metadata": {},
   "outputs": [],
   "source": [
    "#Modifying Travel Time by splitting the values into 5 ranges with an interval of 20 each using pd.cut function\n",
    "data[\"Travel.Time\"]=pd.cut(data['Travel.Time'], bins=[-1,20,40,60,80,100], right=True, labels=False)+1"
   ]
  },
  {
   "cell_type": "code",
   "execution_count": 16,
   "metadata": {},
   "outputs": [],
   "source": [
    "#Past number of trips\n",
    "data[\"Past..Num.of.trips\"]=pd.cut(data['Past..Num.of.trips'], bins=[-1,100,200,300,400,500,600,700,800,900,1000], right=True, labels=False)+1"
   ]
  },
  {
   "cell_type": "code",
   "execution_count": 17,
   "metadata": {},
   "outputs": [],
   "source": [
    "#Future number of trips\n",
    "data[\"Future.Num.of.trips\"]=pd.cut(data[\"Future.Num.of.trips\"], bins=[-1,100,200,300,400,500,600,700,800,900,1000], right=True, labels=False)+1"
   ]
  },
  {
   "cell_type": "code",
   "execution_count": 18,
   "metadata": {},
   "outputs": [],
   "source": [
    "#cleaning the outliers in household member age columns using where condition\n",
    "col_list=['Household.Member.Age_1',\"Household.Member.Age_2\",\"Household.Member.Age_3\",\"Household.Member.Age_4\",\n",
    "         \"Household.Member.Age_5\",\"Household.Member.Age_6\",\"Household.Member.Age_7\",\"Household.Member.Age_8\",\n",
    "         \"Household.Member.Age_8\",\"Household.Member.Age_9\",\"Household.Member.Age_10\"]\n",
    "for col in col_list:\n",
    "    data[col]=pd.np.where(data[col]>=10,np.nan,data[col])\n",
    "    data[col] = data[col].astype('Int64')"
   ]
  },
  {
   "cell_type": "code",
   "execution_count": 19,
   "metadata": {},
   "outputs": [],
   "source": [
    "#drop the columns in collist\n",
    "data.drop(col_list,axis=1,inplace=True)"
   ]
  },
  {
   "cell_type": "code",
   "execution_count": 20,
   "metadata": {},
   "outputs": [],
   "source": [
    "data=data.dropna()\n",
    "data= data.applymap(np.int64)"
   ]
  },
  {
   "cell_type": "code",
   "execution_count": 21,
   "metadata": {},
   "outputs": [],
   "source": [
    "#Birthyear is made into 10 bins\n",
    "data[\"Birthyear\"]=pd.cut(data['Birthyear'], bins=[15,20,30,40,50,60,70,80,90,100], right=True, labels=False)+1"
   ]
  },
  {
   "cell_type": "code",
   "execution_count": 22,
   "metadata": {},
   "outputs": [],
   "source": [
    "#get dummies\n",
    "dummy_cols=set(data.columns) - set(['Choice'])\n",
    "data= pd.get_dummies(data,columns=dummy_cols)"
   ]
  },
  {
   "cell_type": "code",
   "execution_count": 23,
   "metadata": {},
   "outputs": [
    {
     "data": {
      "text/html": [
       "<div>\n",
       "<style scoped>\n",
       "    .dataframe tbody tr th:only-of-type {\n",
       "        vertical-align: middle;\n",
       "    }\n",
       "\n",
       "    .dataframe tbody tr th {\n",
       "        vertical-align: top;\n",
       "    }\n",
       "\n",
       "    .dataframe thead th {\n",
       "        text-align: right;\n",
       "    }\n",
       "</style>\n",
       "<table border=\"1\" class=\"dataframe\">\n",
       "  <thead>\n",
       "    <tr style=\"text-align: right;\">\n",
       "      <th></th>\n",
       "      <th>Choice</th>\n",
       "      <th>Modes.of.Transport_1</th>\n",
       "      <th>Modes.of.Transport_2</th>\n",
       "      <th>Modes.of.Transport_3</th>\n",
       "      <th>Modes.of.Transport_4</th>\n",
       "      <th>Modes.of.Transport_5</th>\n",
       "      <th>Modes.of.Transport_7</th>\n",
       "      <th>Modes.of.Transport_10</th>\n",
       "      <th>Modes.of.Transport_11</th>\n",
       "      <th>Modes.of.Transport_12</th>\n",
       "      <th>...</th>\n",
       "      <th>Edu_4</th>\n",
       "      <th>Edu_5</th>\n",
       "      <th>Edu_6</th>\n",
       "      <th>Edu_7</th>\n",
       "      <th>alt1.amenities_-3</th>\n",
       "      <th>alt1.amenities_-1</th>\n",
       "      <th>alt1.amenities_1</th>\n",
       "      <th>alt1.amenities_3</th>\n",
       "      <th>Past..Num.of.trips_1</th>\n",
       "      <th>Past..Num.of.trips_8</th>\n",
       "    </tr>\n",
       "  </thead>\n",
       "  <tbody>\n",
       "    <tr>\n",
       "      <td>0</td>\n",
       "      <td>2</td>\n",
       "      <td>0</td>\n",
       "      <td>0</td>\n",
       "      <td>0</td>\n",
       "      <td>0</td>\n",
       "      <td>0</td>\n",
       "      <td>0</td>\n",
       "      <td>0</td>\n",
       "      <td>1</td>\n",
       "      <td>0</td>\n",
       "      <td>...</td>\n",
       "      <td>0</td>\n",
       "      <td>0</td>\n",
       "      <td>0</td>\n",
       "      <td>0</td>\n",
       "      <td>0</td>\n",
       "      <td>0</td>\n",
       "      <td>1</td>\n",
       "      <td>0</td>\n",
       "      <td>1</td>\n",
       "      <td>0</td>\n",
       "    </tr>\n",
       "    <tr>\n",
       "      <td>1</td>\n",
       "      <td>1</td>\n",
       "      <td>0</td>\n",
       "      <td>0</td>\n",
       "      <td>0</td>\n",
       "      <td>0</td>\n",
       "      <td>0</td>\n",
       "      <td>0</td>\n",
       "      <td>0</td>\n",
       "      <td>1</td>\n",
       "      <td>0</td>\n",
       "      <td>...</td>\n",
       "      <td>0</td>\n",
       "      <td>0</td>\n",
       "      <td>0</td>\n",
       "      <td>0</td>\n",
       "      <td>1</td>\n",
       "      <td>0</td>\n",
       "      <td>0</td>\n",
       "      <td>0</td>\n",
       "      <td>1</td>\n",
       "      <td>0</td>\n",
       "    </tr>\n",
       "    <tr>\n",
       "      <td>2</td>\n",
       "      <td>1</td>\n",
       "      <td>0</td>\n",
       "      <td>0</td>\n",
       "      <td>0</td>\n",
       "      <td>0</td>\n",
       "      <td>0</td>\n",
       "      <td>0</td>\n",
       "      <td>0</td>\n",
       "      <td>1</td>\n",
       "      <td>0</td>\n",
       "      <td>...</td>\n",
       "      <td>0</td>\n",
       "      <td>0</td>\n",
       "      <td>0</td>\n",
       "      <td>0</td>\n",
       "      <td>0</td>\n",
       "      <td>0</td>\n",
       "      <td>0</td>\n",
       "      <td>1</td>\n",
       "      <td>1</td>\n",
       "      <td>0</td>\n",
       "    </tr>\n",
       "  </tbody>\n",
       "</table>\n",
       "<p>3 rows × 141 columns</p>\n",
       "</div>"
      ],
      "text/plain": [
       "   Choice  Modes.of.Transport_1  Modes.of.Transport_2  Modes.of.Transport_3  \\\n",
       "0       2                     0                     0                     0   \n",
       "1       1                     0                     0                     0   \n",
       "2       1                     0                     0                     0   \n",
       "\n",
       "   Modes.of.Transport_4  Modes.of.Transport_5  Modes.of.Transport_7  \\\n",
       "0                     0                     0                     0   \n",
       "1                     0                     0                     0   \n",
       "2                     0                     0                     0   \n",
       "\n",
       "   Modes.of.Transport_10  Modes.of.Transport_11  Modes.of.Transport_12  ...  \\\n",
       "0                      0                      1                      0  ...   \n",
       "1                      0                      1                      0  ...   \n",
       "2                      0                      1                      0  ...   \n",
       "\n",
       "   Edu_4  Edu_5  Edu_6  Edu_7  alt1.amenities_-3  alt1.amenities_-1  \\\n",
       "0      0      0      0      0                  0                  0   \n",
       "1      0      0      0      0                  1                  0   \n",
       "2      0      0      0      0                  0                  0   \n",
       "\n",
       "   alt1.amenities_1  alt1.amenities_3  Past..Num.of.trips_1  \\\n",
       "0                 1                 0                     1   \n",
       "1                 0                 0                     1   \n",
       "2                 0                 1                     1   \n",
       "\n",
       "   Past..Num.of.trips_8  \n",
       "0                     0  \n",
       "1                     0  \n",
       "2                     0  \n",
       "\n",
       "[3 rows x 141 columns]"
      ]
     },
     "execution_count": 23,
     "metadata": {},
     "output_type": "execute_result"
    }
   ],
   "source": [
    "data.head(3)"
   ]
  },
  {
   "cell_type": "code",
   "execution_count": 64,
   "metadata": {},
   "outputs": [],
   "source": [
    "#splitting into test and train\n",
    "Y=data['Choice']\n",
    "X=data.drop('Choice',axis=1)\n",
    "Mul_Train_accuracy=[]\n",
    "Mul_Test_accuracy=[]\n",
    "Decision_train_accuracy=[]\n",
    "Decision_test_accuracy=[]\n",
    "MUL_Test_Precision=[]\n",
    "MUL_Test_Recall=[]\n",
    "Decision_test_Precision=[]\n",
    "Decision_test_Recall=[]\n",
    "np.random.seed(42)\n",
    "for i in range(50):\n",
    "    X_train, X_test, Y_train, Y_test = train_test_split(X, Y, test_size = 0.2,random_state = 10)\n",
    "    #Multinomial logit\n",
    "    mul_lr = linear_model.LogisticRegression(multi_class='multinomial', solver='newton-cg').fit(X_train, Y_train)\n",
    "    Mul_Train_accuracy.append(metrics.accuracy_score(Y_train, mul_lr.predict(X_train)))\n",
    "    Mul_Test_accuracy.append(metrics.accuracy_score(Y_test, mul_lr.predict(X_test)))\n",
    "    MUL_Test_Precision.append(metrics.precision_score(Y_test,mul_lr.predict(X_test),average='micro'))\n",
    "    MUL_Test_Recall.append(metrics.recall_score(Y_test,mul_lr.predict(X_test),average='micro'))\n",
    "    \n",
    "    #decision tree\n",
    "    clf = DecisionTreeClassifier(criterion=\"entropy\",splitter=\"best\").fit(X_train,Y_train)\n",
    "    # Train Decision Tree Classifer\n",
    "    #clf = clf.fit(X_train,Y_train)\n",
    "    Decision_train_accuracy.append(metrics.accuracy_score(Y_train,clf.predict(X_train)))\n",
    "    Decision_test_accuracy.append(metrics.accuracy_score(Y_test,clf.predict(X_test)))\n",
    "    Decision_test_Precision.append(metrics.precision_score(Y_test,clf.predict(X_test),average='micro'))\n",
    "    Decision_test_Recall.append(metrics.recall_score(Y_test,clf.predict(X_test),average='micro'))"
   ]
  },
  {
   "cell_type": "code",
   "execution_count": 65,
   "metadata": {},
   "outputs": [
    {
     "data": {
      "text/plain": [
       "0.7253289473684211"
      ]
     },
     "execution_count": 65,
     "metadata": {},
     "output_type": "execute_result"
    }
   ],
   "source": [
    "np.mean(Mul_Train_accuracy)"
   ]
  },
  {
   "cell_type": "code",
   "execution_count": 26,
   "metadata": {},
   "outputs": [
    {
     "data": {
      "text/plain": [
       "0.6506140350877193"
      ]
     },
     "execution_count": 26,
     "metadata": {},
     "output_type": "execute_result"
    }
   ],
   "source": [
    "np.mean(Mul_Test_accuracy)"
   ]
  },
  {
   "cell_type": "code",
   "execution_count": 27,
   "metadata": {},
   "outputs": [
    {
     "data": {
      "text/plain": [
       "0.6506140350877193"
      ]
     },
     "execution_count": 27,
     "metadata": {},
     "output_type": "execute_result"
    }
   ],
   "source": [
    "np.mean(MUL_Test_Precision)"
   ]
  },
  {
   "cell_type": "code",
   "execution_count": 28,
   "metadata": {},
   "outputs": [
    {
     "data": {
      "text/plain": [
       "0.6506140350877193"
      ]
     },
     "execution_count": 28,
     "metadata": {},
     "output_type": "execute_result"
    }
   ],
   "source": [
    "np.mean(MUL_Test_Recall)"
   ]
  },
  {
   "cell_type": "code",
   "execution_count": 30,
   "metadata": {},
   "outputs": [],
   "source": [
    "clf = DecisionTreeClassifier(criterion=\"entropy\",splitter=\"best\").fit(X_train,Y_train)\n",
    "    # Train Decision Tree Classifer\n",
    "clf = clf.fit(X_train,Y_train)\n",
    "Decision_train_accuracy.append(metrics.accuracy_score(Y_train,clf.predict(X_train)))\n",
    "Decision_test_accuracy.append(metrics.accuracy_score(Y_test,clf.predict(X_test)))\n",
    "Decision_test_Precision.append(metrics.precision_score(Y_test,clf.predict(X_test),average='micro'))\n",
    "Decision_test_Recall.append(metrics.recall_score(Y_test,clf.predict(X_test),average='micro'))"
   ]
  },
  {
   "cell_type": "code",
   "execution_count": 31,
   "metadata": {},
   "outputs": [
    {
     "data": {
      "text/plain": [
       "1.0"
      ]
     },
     "execution_count": 31,
     "metadata": {},
     "output_type": "execute_result"
    }
   ],
   "source": [
    "#Classification\n",
    "np.mean(Decision_train_accuracy)"
   ]
  },
  {
   "cell_type": "code",
   "execution_count": 32,
   "metadata": {},
   "outputs": [
    {
     "data": {
      "text/plain": [
       "0.5807533539731682"
      ]
     },
     "execution_count": 32,
     "metadata": {},
     "output_type": "execute_result"
    }
   ],
   "source": [
    "np.mean(Decision_test_accuracy)"
   ]
  },
  {
   "cell_type": "code",
   "execution_count": 33,
   "metadata": {},
   "outputs": [
    {
     "data": {
      "text/plain": [
       "0.5807533539731682"
      ]
     },
     "execution_count": 33,
     "metadata": {},
     "output_type": "execute_result"
    }
   ],
   "source": [
    "np.mean(Decision_test_Precision)"
   ]
  },
  {
   "cell_type": "code",
   "execution_count": 34,
   "metadata": {},
   "outputs": [
    {
     "data": {
      "text/plain": [
       "0.5807533539731682"
      ]
     },
     "execution_count": 34,
     "metadata": {},
     "output_type": "execute_result"
    }
   ],
   "source": [
    "np.mean(Decision_test_Recall)"
   ]
  },
  {
   "cell_type": "code",
   "execution_count": 91,
   "metadata": {},
   "outputs": [],
   "source": [
    "X_train, X_test, Y_train, Y_test = train_test_split(X, Y, test_size = 0.2,random_state = 8)"
   ]
  },
  {
   "cell_type": "code",
   "execution_count": 79,
   "metadata": {},
   "outputs": [
    {
     "name": "stdout",
     "output_type": "stream",
     "text": [
      "{'n_estimators': [200, 400, 600, 800, 1000, 1200, 1400, 1600, 1800, 2000], 'max_features': ['auto', 'sqrt'], 'max_depth': [5, 12, 20, 27, 35, None], 'min_samples_split': [5, 8, 10], 'min_samples_leaf': [10, 12, 7], 'bootstrap': [True, False]}\n"
     ]
    }
   ],
   "source": [
    "from sklearn.ensemble import RandomForestClassifier\n",
    ">>> from sklearn.datasets import make_classification\n",
    "from sklearn.model_selection import RandomizedSearchCV\n",
    "# Number of trees in random forest\n",
    "n_estimators = [int(x) for x in np.linspace(start = 200, stop = 2000, num = 10)]\n",
    "# Number of features to consider at every split\n",
    "max_features = ['auto', 'sqrt']\n",
    "# Maximum number of levels in tree\n",
    "max_depth = [int(x) for x in np.linspace(5, 35, num = 5)]\n",
    "max_depth.append(None)\n",
    "# Minimum number of samples required to split a node\n",
    "min_samples_split = [5,8,10]\n",
    "# Minimum number of samples required at each leaf node\n",
    "min_samples_leaf = [10, 12, 7]\n",
    "# Method of selecting samples for training each tree\n",
    "bootstrap = [True, False]\n",
    "# Create the random grid\n",
    "random_grid = {'n_estimators': n_estimators,\n",
    "               'max_features': max_features,\n",
    "               'max_depth': max_depth,\n",
    "               'min_samples_split': min_samples_split,\n",
    "               'min_samples_leaf': min_samples_leaf,\n",
    "               'bootstrap': bootstrap}\n",
    "print(random_grid)\n",
    "#Random Forest Classifier\n",
    "#clf = RandomForestClassifier(max_depth=2, random_state=0)"
   ]
  },
  {
   "cell_type": "code",
   "execution_count": 92,
   "metadata": {},
   "outputs": [
    {
     "name": "stdout",
     "output_type": "stream",
     "text": [
      "Fitting 3 folds for each of 100 candidates, totalling 300 fits\n"
     ]
    },
    {
     "name": "stderr",
     "output_type": "stream",
     "text": [
      "[Parallel(n_jobs=-1)]: Using backend LokyBackend with 12 concurrent workers.\n",
      "[Parallel(n_jobs=-1)]: Done  17 tasks      | elapsed:    6.5s\n",
      "[Parallel(n_jobs=-1)]: Done 138 tasks      | elapsed:   25.5s\n",
      "[Parallel(n_jobs=-1)]: Done 300 out of 300 | elapsed:   54.5s finished\n"
     ]
    },
    {
     "data": {
      "text/plain": [
       "RandomizedSearchCV(cv=3, error_score='raise-deprecating',\n",
       "                   estimator=RandomForestClassifier(bootstrap=True,\n",
       "                                                    class_weight=None,\n",
       "                                                    criterion='gini',\n",
       "                                                    max_depth=None,\n",
       "                                                    max_features='auto',\n",
       "                                                    max_leaf_nodes=None,\n",
       "                                                    min_impurity_decrease=0.0,\n",
       "                                                    min_impurity_split=None,\n",
       "                                                    min_samples_leaf=1,\n",
       "                                                    min_samples_split=2,\n",
       "                                                    min_weight_fraction_leaf=0.0,\n",
       "                                                    n_estimators='warn',\n",
       "                                                    n_jobs=None,\n",
       "                                                    oob_sc...\n",
       "                   iid='warn', n_iter=100, n_jobs=-1,\n",
       "                   param_distributions={'bootstrap': [True, False],\n",
       "                                        'max_depth': [5, 12, 20, 27, 35, None],\n",
       "                                        'max_features': ['auto', 'sqrt'],\n",
       "                                        'min_samples_leaf': [10, 12, 7],\n",
       "                                        'min_samples_split': [5, 8, 10],\n",
       "                                        'n_estimators': [200, 400, 600, 800,\n",
       "                                                         1000, 1200, 1400, 1600,\n",
       "                                                         1800, 2000]},\n",
       "                   pre_dispatch='2*n_jobs', random_state=42, refit=True,\n",
       "                   return_train_score=False, scoring=None, verbose=2)"
      ]
     },
     "execution_count": 92,
     "metadata": {},
     "output_type": "execute_result"
    }
   ],
   "source": [
    "# Use the random grid to search for best hyperparameters\n",
    "# First create the base model to tune\n",
    "rf = RandomForestClassifier()\n",
    "# Random search of parameters, using 3 fold cross validation, \n",
    "# search across 100 different combinations, and use all available cores\n",
    "rf_random = RandomizedSearchCV(estimator = rf, param_distributions = random_grid, n_iter = 100, cv = 3, verbose=2, random_state=42, n_jobs = -1)\n",
    "# Fit the random search model\n",
    "rf_random.fit(X_train,Y_train)"
   ]
  },
  {
   "cell_type": "code",
   "execution_count": 93,
   "metadata": {},
   "outputs": [
    {
     "data": {
      "text/plain": [
       "{'n_estimators': 400,\n",
       " 'min_samples_split': 10,\n",
       " 'min_samples_leaf': 7,\n",
       " 'max_features': 'sqrt',\n",
       " 'max_depth': 35,\n",
       " 'bootstrap': False}"
      ]
     },
     "execution_count": 93,
     "metadata": {},
     "output_type": "execute_result"
    }
   ],
   "source": [
    "#View the best parameters\n",
    "rf_random.best_params_"
   ]
  },
  {
   "cell_type": "code",
   "execution_count": 94,
   "metadata": {},
   "outputs": [],
   "source": [
    "#Comparing the base model and the best estimator"
   ]
  },
  {
   "cell_type": "code",
   "execution_count": 95,
   "metadata": {},
   "outputs": [
    {
     "name": "stdout",
     "output_type": "stream",
     "text": [
      "Model Performance\n",
      "Average Error: 0.5713 degrees.\n",
      "Accuracy = 62.23%.\n",
      "Model Performance\n",
      "Average Error: 0.3136 degrees.\n",
      "Accuracy = 80.81%.\n",
      "Improvement of 29.87%.\n"
     ]
    }
   ],
   "source": [
    "def evaluate(model, test_features, test_labels):\n",
    "    predictions = model.predict(test_features)\n",
    "    errors = abs(predictions - test_labels)\n",
    "    mape = 100 * np.mean(errors / test_labels)\n",
    "    accuracy = 100 - mape\n",
    "    print('Model Performance')\n",
    "    print('Average Error: {:0.4f} degrees.'.format(np.mean(errors)))\n",
    "    print('Accuracy = {:0.2f}%.'.format(accuracy))\n",
    "    \n",
    "    return accuracy\n",
    "#Call the base model\n",
    "base_model = RandomForestClassifier(n_estimators = 10, random_state = 42)\n",
    "base_model.fit(X_test,Y_test)\n",
    "base_accuracy = evaluate(base_model, X_train,Y_train)\n",
    "#Call the best estimator\n",
    "best_random = rf_random.best_estimator_\n",
    "random_accuracy = evaluate(best_random, X_train,Y_train)\n",
    "#Improvement\n",
    "print('Improvement of {:0.2f}%.'.format( 100 * (random_accuracy - base_accuracy) / base_accuracy))"
   ]
  },
  {
   "cell_type": "code",
   "execution_count": 99,
   "metadata": {},
   "outputs": [
    {
     "name": "stdout",
     "output_type": "stream",
     "text": [
      "Model Performance\n",
      "Average Error: 0.3070 degrees.\n",
      "Accuracy = 77.05%.\n"
     ]
    }
   ],
   "source": [
    "#Call the base model\n",
    "\n",
    "rf_random = RandomForestClassifier( n_estimators=400,min_samples_split= 10,\n",
    " min_samples_leaf= 7,\n",
    " max_features= 'sqrt',\n",
    " max_depth= 35,\n",
    "bootstrap=True)\n",
    "test=rf_random.fit(X_test,Y_test)\n",
    "random_accuracy = evaluate(test,X_test,Y_test)\n"
   ]
  },
  {
   "cell_type": "code",
   "execution_count": 87,
   "metadata": {},
   "outputs": [],
   "source": [
    "#Grid Search\n",
    "from sklearn.model_selection import GridSearchCV\n",
    "n_estimators = [int(x) for x in np.linspace(start = 100, stop = 200, num = 10)]\n",
    "# Number of features to consider at every split\n",
    "max_features = ['auto', 'sqrt']\n",
    "# Maximum number of levels in tree\n",
    "max_depth = [int(x) for x in np.linspace(25, 30, num = 5)]\n",
    "max_depth.append(None)\n",
    "# Minimum number of samples required to split a node\n",
    "min_samples_split = [9,8,10]\n",
    "# Minimum number of samples required at each leaf node\n",
    "min_samples_leaf = [8, 9, 10]\n",
    "# Method of selecting samples for training each tree\n",
    "bootstrap = [True, False]\n",
    "# Create the random grid\n",
    "custom_grid = {'n_estimators': n_estimators,\n",
    "               'max_features': max_features,\n",
    "               'max_depth': max_depth,\n",
    "               'min_samples_split': min_samples_split,\n",
    "               'min_samples_leaf': min_samples_leaf,\n",
    "               'bootstrap': bootstrap}\n",
    "# Instantiate the grid search model\n",
    "grid_search = GridSearchCV(estimator = rf, param_grid = custom_grid, \n",
    "                           n_jobs = -1, verbose = 2)"
   ]
  },
  {
   "cell_type": "code",
   "execution_count": 88,
   "metadata": {},
   "outputs": [
    {
     "name": "stderr",
     "output_type": "stream",
     "text": [
      "C:\\Users\\Namee\\Anaconda3\\lib\\site-packages\\sklearn\\model_selection\\_split.py:1978: FutureWarning: The default value of cv will change from 3 to 5 in version 0.22. Specify it explicitly to silence this warning.\n",
      "  warnings.warn(CV_WARNING, FutureWarning)\n",
      "[Parallel(n_jobs=-1)]: Using backend LokyBackend with 12 concurrent workers.\n"
     ]
    },
    {
     "name": "stdout",
     "output_type": "stream",
     "text": [
      "Fitting 3 folds for each of 2160 candidates, totalling 6480 fits\n"
     ]
    },
    {
     "name": "stderr",
     "output_type": "stream",
     "text": [
      "[Parallel(n_jobs=-1)]: Done  17 tasks      | elapsed:    3.1s\n",
      "[Parallel(n_jobs=-1)]: Done 138 tasks      | elapsed:    5.0s\n",
      "[Parallel(n_jobs=-1)]: Done 341 tasks      | elapsed:    8.3s\n",
      "[Parallel(n_jobs=-1)]: Done 624 tasks      | elapsed:   13.4s\n",
      "[Parallel(n_jobs=-1)]: Done 989 tasks      | elapsed:   19.5s\n",
      "[Parallel(n_jobs=-1)]: Done 1434 tasks      | elapsed:   27.2s\n",
      "[Parallel(n_jobs=-1)]: Done 1961 tasks      | elapsed:   36.3s\n",
      "[Parallel(n_jobs=-1)]: Done 2568 tasks      | elapsed:   47.0s\n",
      "[Parallel(n_jobs=-1)]: Done 3257 tasks      | elapsed:   59.7s\n",
      "[Parallel(n_jobs=-1)]: Done 4026 tasks      | elapsed:  1.2min\n",
      "[Parallel(n_jobs=-1)]: Done 4877 tasks      | elapsed:  1.5min\n",
      "[Parallel(n_jobs=-1)]: Done 5808 tasks      | elapsed:  1.8min\n",
      "[Parallel(n_jobs=-1)]: Done 6480 out of 6480 | elapsed:  2.0min finished\n"
     ]
    },
    {
     "data": {
      "text/plain": [
       "{'bootstrap': False,\n",
       " 'max_depth': 25,\n",
       " 'max_features': 'auto',\n",
       " 'min_samples_leaf': 9,\n",
       " 'min_samples_split': 10,\n",
       " 'n_estimators': 133}"
      ]
     },
     "execution_count": 88,
     "metadata": {},
     "output_type": "execute_result"
    }
   ],
   "source": [
    "grid_search.fit(X_test,Y_test)\n",
    "grid_search.best_params_"
   ]
  },
  {
   "cell_type": "code",
   "execution_count": 45,
   "metadata": {},
   "outputs": [
    {
     "name": "stdout",
     "output_type": "stream",
     "text": [
      "Model Performance\n",
      "Average Error: 0.3377 degrees.\n",
      "Accuracy = 80.92%.\n",
      "Improvement of -17.82%.\n"
     ]
    }
   ],
   "source": [
    "#Comparison\n",
    "best_grid = grid_search.best_estimator_\n",
    "grid_accuracy = evaluate(best_grid,X_test,Y_test)\n",
    "print('Improvement of {:0.2f}%.'.format( 100 * (grid_accuracy - base_accuracy) / base_accuracy))"
   ]
  },
  {
   "cell_type": "code",
   "execution_count": null,
   "metadata": {},
   "outputs": [],
   "source": []
  }
 ],
 "metadata": {
  "kernelspec": {
   "display_name": "Python 3",
   "language": "python",
   "name": "python3"
  },
  "language_info": {
   "codemirror_mode": {
    "name": "ipython",
    "version": 3
   },
   "file_extension": ".py",
   "mimetype": "text/x-python",
   "name": "python",
   "nbconvert_exporter": "python",
   "pygments_lexer": "ipython3",
   "version": "3.7.4"
  }
 },
 "nbformat": 4,
 "nbformat_minor": 2
}
